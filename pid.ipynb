{
 "cells": [
  {
   "cell_type": "code",
   "execution_count": 3,
   "metadata": {},
   "outputs": [],
   "source": [
    "import uproot"
   ]
  },
  {
   "cell_type": "code",
   "execution_count": 5,
   "metadata": {},
   "outputs": [],
   "source": [
    "file = uproot.open(\"pid.root\")"
   ]
  },
  {
   "cell_type": "code",
   "execution_count": 6,
   "metadata": {},
   "outputs": [
    {
     "data": {
      "text/plain": [
       "[b'mom',\n",
       " b'theta',\n",
       " b'svt',\n",
       " b'emc',\n",
       " b'drc',\n",
       " b'dch',\n",
       " b'ifr',\n",
       " b'ifrExp',\n",
       " b'ifrAdd',\n",
       " b'ifrStrip',\n",
       " b'ifrFirst',\n",
       " b'ifrLast',\n",
       " b'emcS1S9',\n",
       " b'emcS9S25',\n",
       " b'emczern20',\n",
       " b'emczern40',\n",
       " b'emclat',\n",
       " b'charge',\n",
       " b'drcnphot',\n",
       " b'emcphi',\n",
       " b'emctheta',\n",
       " b'pid',\n",
       " b'lipisvt',\n",
       " b'limusvt',\n",
       " b'likasvt',\n",
       " b'lipidch',\n",
       " b'limudch',\n",
       " b'likadch',\n",
       " b'lipidrc',\n",
       " b'limudrc',\n",
       " b'likadrc',\n",
       " b'lipiemc',\n",
       " b'limuemc',\n",
       " b'likaemc',\n",
       " b'lipiifr',\n",
       " b'limuifr',\n",
       " b'likaifr']"
      ]
     },
     "execution_count": 6,
     "metadata": {},
     "output_type": "execute_result"
    }
   ],
   "source": [
    "file.keys()\n",
    "tree = file[\"PidTuple\"]\n",
    "tree.keys()"
   ]
  },
  {
   "cell_type": "code",
   "execution_count": 7,
   "metadata": {},
   "outputs": [
    {
     "data": {
      "text/plain": [
       "array([1.5605692, 1.5410209, 1.4362378, ..., 1.8818983, 1.9985647,\n",
       "       0.9953289], dtype=float32)"
      ]
     },
     "execution_count": 7,
     "metadata": {},
     "output_type": "execute_result"
    }
   ],
   "source": [
    "tree[\"mom\"].array()"
   ]
  },
  {
   "cell_type": "code",
   "execution_count": 13,
   "metadata": {},
   "outputs": [],
   "source": [
    "data = tree.arrays([\"mom\", \"theta\", \"svt\", \"emc\", \"drc\", \"dch\", \"ifr\", \"pid\"])"
   ]
  },
  {
   "cell_type": "code",
   "execution_count": 14,
   "metadata": {},
   "outputs": [],
   "source": [
    "import pandas as pd"
   ]
  },
  {
   "cell_type": "code",
   "execution_count": 17,
   "metadata": {},
   "outputs": [],
   "source": [
    "dataset = pd.DataFrame(data)"
   ]
  },
  {
   "cell_type": "code",
   "execution_count": 18,
   "metadata": {},
   "outputs": [
    {
     "data": {
      "text/html": [
       "<div>\n",
       "<style scoped>\n",
       "    .dataframe tbody tr th:only-of-type {\n",
       "        vertical-align: middle;\n",
       "    }\n",
       "\n",
       "    .dataframe tbody tr th {\n",
       "        vertical-align: top;\n",
       "    }\n",
       "\n",
       "    .dataframe thead th {\n",
       "        text-align: right;\n",
       "    }\n",
       "</style>\n",
       "<table border=\"1\" class=\"dataframe\">\n",
       "  <thead>\n",
       "    <tr style=\"text-align: right;\">\n",
       "      <th></th>\n",
       "      <th>b'mom'</th>\n",
       "      <th>b'theta'</th>\n",
       "      <th>b'svt'</th>\n",
       "      <th>b'emc'</th>\n",
       "      <th>b'drc'</th>\n",
       "      <th>b'dch'</th>\n",
       "      <th>b'ifr'</th>\n",
       "      <th>b'pid'</th>\n",
       "    </tr>\n",
       "  </thead>\n",
       "  <tbody>\n",
       "    <tr>\n",
       "      <th>83821</th>\n",
       "      <td>1.156832</td>\n",
       "      <td>0.842868</td>\n",
       "      <td>5.810547</td>\n",
       "      <td>0.365639</td>\n",
       "      <td>0.495674</td>\n",
       "      <td>732.421875</td>\n",
       "      <td>0.000000</td>\n",
       "      <td>5.0</td>\n",
       "    </tr>\n",
       "    <tr>\n",
       "      <th>83822</th>\n",
       "      <td>2.320551</td>\n",
       "      <td>0.914929</td>\n",
       "      <td>4.296875</td>\n",
       "      <td>1.259613</td>\n",
       "      <td>0.749020</td>\n",
       "      <td>537.109375</td>\n",
       "      <td>0.000000</td>\n",
       "      <td>5.0</td>\n",
       "    </tr>\n",
       "    <tr>\n",
       "      <th>83823</th>\n",
       "      <td>1.881898</td>\n",
       "      <td>0.807030</td>\n",
       "      <td>4.589844</td>\n",
       "      <td>0.164413</td>\n",
       "      <td>0.710582</td>\n",
       "      <td>454.101562</td>\n",
       "      <td>2.352941</td>\n",
       "      <td>5.0</td>\n",
       "    </tr>\n",
       "    <tr>\n",
       "      <th>83824</th>\n",
       "      <td>1.998565</td>\n",
       "      <td>0.996907</td>\n",
       "      <td>3.564453</td>\n",
       "      <td>0.463104</td>\n",
       "      <td>0.721126</td>\n",
       "      <td>444.335938</td>\n",
       "      <td>3.019608</td>\n",
       "      <td>5.0</td>\n",
       "    </tr>\n",
       "    <tr>\n",
       "      <th>83825</th>\n",
       "      <td>0.995329</td>\n",
       "      <td>0.923367</td>\n",
       "      <td>6.005859</td>\n",
       "      <td>0.354385</td>\n",
       "      <td>0.364935</td>\n",
       "      <td>771.484375</td>\n",
       "      <td>0.000000</td>\n",
       "      <td>5.0</td>\n",
       "    </tr>\n",
       "  </tbody>\n",
       "</table>\n",
       "</div>"
      ],
      "text/plain": [
       "         b'mom'  b'theta'    b'svt'    b'emc'    b'drc'      b'dch'    b'ifr'  \\\n",
       "83821  1.156832  0.842868  5.810547  0.365639  0.495674  732.421875  0.000000   \n",
       "83822  2.320551  0.914929  4.296875  1.259613  0.749020  537.109375  0.000000   \n",
       "83823  1.881898  0.807030  4.589844  0.164413  0.710582  454.101562  2.352941   \n",
       "83824  1.998565  0.996907  3.564453  0.463104  0.721126  444.335938  3.019608   \n",
       "83825  0.995329  0.923367  6.005859  0.354385  0.364935  771.484375  0.000000   \n",
       "\n",
       "       b'pid'  \n",
       "83821     5.0  \n",
       "83822     5.0  \n",
       "83823     5.0  \n",
       "83824     5.0  \n",
       "83825     5.0  "
      ]
     },
     "execution_count": 18,
     "metadata": {},
     "output_type": "execute_result"
    }
   ],
   "source": [
    "dataset.tail()"
   ]
  },
  {
   "cell_type": "code",
   "execution_count": 19,
   "metadata": {},
   "outputs": [],
   "source": [
    "train_dataset = dataset.sample(frac=0.8,random_state=0)\n",
    "test_dataset = dataset.drop(train_dataset.index)"
   ]
  },
  {
   "cell_type": "code",
   "execution_count": 1,
   "metadata": {},
   "outputs": [],
   "source": [
    "import seaborn as sns"
   ]
  },
  {
   "cell_type": "code",
   "execution_count": null,
   "metadata": {},
   "outputs": [],
   "source": []
  }
 ],
 "metadata": {
  "kernelspec": {
   "display_name": "Python 3",
   "language": "python",
   "name": "python3"
  },
  "language_info": {
   "codemirror_mode": {
    "name": "ipython",
    "version": 3
   },
   "file_extension": ".py",
   "mimetype": "text/x-python",
   "name": "python",
   "nbconvert_exporter": "python",
   "pygments_lexer": "ipython3",
   "version": "3.7.1"
  }
 },
 "nbformat": 4,
 "nbformat_minor": 2
}
