{
 "cells": [
  {
   "cell_type": "code",
   "execution_count": 3,
   "metadata": {},
   "outputs": [],
   "source": [
    "import uproot"
   ]
  },
  {
   "cell_type": "code",
   "execution_count": 5,
   "metadata": {},
   "outputs": [],
   "source": [
    "file = uproot.open(\"small.root\")"
   ]
  },
  {
   "cell_type": "code",
   "execution_count": 9,
   "metadata": {},
   "outputs": [
    {
     "data": {
      "text/plain": [
       "[b'mom',\n",
       " b'theta',\n",
       " b'svt',\n",
       " b'emc',\n",
       " b'drc',\n",
       " b'dch',\n",
       " b'ifr',\n",
       " b'ifrExp',\n",
       " b'ifrAdd',\n",
       " b'ifrStrip',\n",
       " b'ifrFirst',\n",
       " b'ifrLast',\n",
       " b'emcS1S9',\n",
       " b'emcS9S25',\n",
       " b'emczern20',\n",
       " b'emczern40',\n",
       " b'emclat',\n",
       " b'charge',\n",
       " b'drcnphot',\n",
       " b'emcphi',\n",
       " b'emctheta',\n",
       " b'pid',\n",
       " b'lipisvt',\n",
       " b'limusvt',\n",
       " b'likasvt',\n",
       " b'lipidch',\n",
       " b'limudch',\n",
       " b'likadch',\n",
       " b'lipidrc',\n",
       " b'limudrc',\n",
       " b'likadrc',\n",
       " b'lipiemc',\n",
       " b'limuemc',\n",
       " b'likaemc',\n",
       " b'lipiifr',\n",
       " b'limuifr',\n",
       " b'likaifr']"
      ]
     },
     "execution_count": 9,
     "metadata": {},
     "output_type": "execute_result"
    }
   ],
   "source": [
    "file.keys()\n",
    "tree = file[\"PidTuple\"]\n",
    "tree.keys()"
   ]
  },
  {
   "cell_type": "code",
   "execution_count": 10,
   "metadata": {},
   "outputs": [
    {
     "data": {
      "text/plain": [
       "array([1.5605692, 1.5410209, 1.4362378, ..., 1.8818983, 1.9985647,\n",
       "       0.9953289], dtype=float32)"
      ]
     },
     "execution_count": 10,
     "metadata": {},
     "output_type": "execute_result"
    }
   ],
   "source": [
    "tree[\"mom\"].array()"
   ]
  },
  {
   "cell_type": "code",
   "execution_count": 11,
   "metadata": {},
   "outputs": [
    {
     "data": {
      "text/plain": [
       "{b'mom': array([1.5605692, 1.5410209, 1.4362378, ..., 1.8818983, 1.9985647,\n",
       "        0.9953289], dtype=float32),\n",
       " b'theta': array([0.82835746, 0.8489997 , 0.97058475, ..., 0.8070305 , 0.99690694,\n",
       "        0.9233667 ], dtype=float32),\n",
       " b'svt': array([4.7851562, 3.515625 , 4.345703 , ..., 4.5898438, 3.5644531,\n",
       "        6.0058594], dtype=float32),\n",
       " b'emc': array([1.4816284 , 1.4060974 , 1.3679504 , ..., 0.16441345, 0.46310425,\n",
       "        0.35438538], dtype=float32),\n",
       " b'drc': array([0.825803  , 0.8226444 , 0.822034  , ..., 0.71058214, 0.72112614,\n",
       "        0.36493477], dtype=float32),\n",
       " b'dch': array([732.4219 , 732.4219 , 610.35156, ..., 454.10156, 444.33594,\n",
       "        771.4844 ], dtype=float32),\n",
       " b'ifr': array([0.       , 0.       , 0.       , ..., 2.3529413, 3.0196078,\n",
       "        0.       ], dtype=float32)}"
      ]
     },
     "execution_count": 11,
     "metadata": {},
     "output_type": "execute_result"
    }
   ],
   "source": [
    "tree.arrays([\"mom\", \"theta\", \"svt\", \"emc\", \"drc\", \"dch\", \"ifr\"])"
   ]
  },
  {
   "cell_type": "code",
   "execution_count": null,
   "metadata": {},
   "outputs": [],
   "source": []
  }
 ],
 "metadata": {
  "kernelspec": {
   "display_name": "Python 3",
   "language": "python",
   "name": "python3"
  },
  "language_info": {
   "codemirror_mode": {
    "name": "ipython",
    "version": 3
   },
   "file_extension": ".py",
   "mimetype": "text/x-python",
   "name": "python",
   "nbconvert_exporter": "python",
   "pygments_lexer": "ipython3",
   "version": "3.7.3"
  }
 },
 "nbformat": 4,
 "nbformat_minor": 2
}
